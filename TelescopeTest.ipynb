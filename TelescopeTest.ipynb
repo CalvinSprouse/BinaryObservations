{
 "cells": [
  {
   "attachments": {},
   "cell_type": "markdown",
   "metadata": {},
   "source": [
    "### Telescope Tests\n",
    "\n",
    "This notebook is designed to explore the limits of Pythons control over the CWU telescope and test methods for integrating this control into a final observational script."
   ]
  },
  {
   "attachments": {},
   "cell_type": "markdown",
   "metadata": {},
   "source": [
    "# imports\n",
    "import astropy\n",
    "import astropy.coordinates as coord"
   ]
  }
 ],
 "metadata": {
  "kernelspec": {
   "display_name": ".venv2",
   "language": "python",
   "name": "python3"
  },
  "language_info": {
   "name": "python",
   "version": "2.7.18"
  },
  "orig_nbformat": 4,
  "vscode": {
   "interpreter": {
    "hash": "ac5c951284bc436e0b69f105c385d582ac99c2294749ae45cd092667c6f03974"
   }
  }
 },
 "nbformat": 4,
 "nbformat_minor": 2
}
